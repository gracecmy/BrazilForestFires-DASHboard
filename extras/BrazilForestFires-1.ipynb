{
 "metadata": {
  "language_info": {
   "codemirror_mode": {
    "name": "ipython",
    "version": 3
   },
   "file_extension": ".py",
   "mimetype": "text/x-python",
   "name": "python",
   "nbconvert_exporter": "python",
   "pygments_lexer": "ipython3",
   "version": "3.8.3-final"
  },
  "orig_nbformat": 2,
  "kernelspec": {
   "name": "python3",
   "display_name": "Python 3.8.3 64-bit ('base': conda)",
   "metadata": {
    "interpreter": {
     "hash": "dca0ade3e726a953b501b15e8e990130d2b7799f14cfd9f4271676035ebe5511"
    }
   }
  }
 },
 "nbformat": 4,
 "nbformat_minor": 2,
 "cells": [
  {
   "cell_type": "code",
   "execution_count": 1,
   "metadata": {},
   "outputs": [],
   "source": [
    "import numpy as np #version 1.18.5\n",
    "import pandas as pd #version 1.0.5\n",
    "import json #version 2.0.9\n",
    "import plotly.express as px #version 4.11.0"
   ]
  },
  {
   "cell_type": "code",
   "execution_count": 2,
   "metadata": {},
   "outputs": [],
   "source": [
    "import dash #version 1.16.3\n",
    "import dash_core_components as dcc #version 1.12.1 (pip install dash --upgrade)\n",
    "import dash_html_components as html #version 1.1.1\n",
    "from dash.dependencies import Input,Output"
   ]
  },
  {
   "cell_type": "code",
   "execution_count": 3,
   "metadata": {},
   "outputs": [],
   "source": [
    "#the json\n",
    "geo=json.load(open(\"brazil-states.geojson\"))\n",
    "\n",
    "#the data\n",
    "df=pd.read_csv(\"amazon.csv\",encoding=\"latin1\")\n",
    "df.drop([\"date\"],axis=1,inplace=True)\n",
    "df.rename(columns={\"year\":\"Year\",\"state\":\"State\",\"month\":\"Month\",\"number\":\"Number\"},inplace=True)\n",
    "\n",
    "month_mapper={\"Janeiro\":\"January\",\"Fevereiro\":\"February\",\"Março\":\"March\",\"Abril\":\"April\",\"Maio\":\"May\",\"Junho\":\"June\",\"Julho\":\"July\",\"Agosto\":\"August\",\"Setembro\":\"September\",\"Outubro\":\"October\",\"Novembro\":\"November\",\"Dezembro\":\"December\"}\n",
    "df[\"Month\"]=df[\"Month\"].map(month_mapper)\n",
    "\n",
    "name_mapper={\"Acre\":\"Acre\",\"Alagoas\":\"Alagoas\",\"Amazonas\":\"Amazonas\",\"Amapa\":\"Amapá\",\"Bahia\":\"Bahia\",\"Ceara\":\"Ceará\",\"Distrito Federal\":\"Distrito Federal\",\"Espirito Santo\":\"Espírito Santo\",\"Goias\":\"Goiás\",\"Maranhao\":\"Maranhão\",\"Mato Grosso\":\"Mato Grosso\",\"Minas Gerais\":\"Minas Gerais\",\"Pará\":\"Pará\",\"Paraiba\":\"Paraíba\",\"Pernambuco\":\"Pernambuco\",\"Piau\":\"Piauí\",\"Rio\":\"Rio de Janeiro\",\"Rondonia\":\"Rondônia\",\"Roraima\":\"Roraima\",\"Santa Catarina\":\"Santa Catarina\",\"Sao Paulo\":\"São Paulo\",\"Sergipe\":\"Sergipe\",\"Tocantins\":\"Tocantins\"}\n",
    "df[\"State\"]=df[\"State\"].map(name_mapper)\n",
    "\n",
    "state_codes=pd.read_csv(\"brazil-state-codes.csv\")\n",
    "state_codes=state_codes[[\"subdivision\",\"name\"]]\n",
    "df=df.merge(state_codes,how=\"left\",left_on=\"State\",right_on=\"name\")\n",
    "df.rename(columns={\"subdivision\":\"State_Code\"},inplace=True)\n",
    "df.drop([\"name\"],axis=1,inplace=True)\n",
    "\n",
    "#the map data\n",
    "def map_df_generator(year):\n",
    "    number_i=[]\n",
    "    for j in df[\"State\"].unique():\n",
    "        number_i.append(df[\"Number\"].loc[(df[\"Year\"]==year)&(df[\"State\"]==j)].sum())\n",
    "    df_i=pd.DataFrame({\"Year\":year,\"State\":df[\"State\"].unique(),\"State_Code\":df[\"State_Code\"].unique(),\"Number\":number_i})\n",
    "    return df_i\n",
    "\n",
    "df_map=pd.concat([map_df_generator(1998),map_df_generator(1999),map_df_generator(2000),map_df_generator(2001),map_df_generator(2002),map_df_generator(2003),map_df_generator(2004),map_df_generator(2005),map_df_generator(2006),map_df_generator(2007),map_df_generator(2008),map_df_generator(2009),map_df_generator(2010),map_df_generator(2011),map_df_generator(2012),map_df_generator(2013),map_df_generator(2014),map_df_generator(2015),map_df_generator(2016),map_df_generator(2017)])\n",
    "df_map.reset_index(inplace=True)\n",
    "df_map.drop([\"index\"],axis=1,inplace=True)"
   ]
  },
  {
   "cell_type": "code",
   "execution_count": null,
   "metadata": {},
   "outputs": [],
   "source": [
    "#the text\n",
    "intro_text=\"Brazil is home to lush rainforests which is vital for keeping our planet healthy. Unfortunately deforestation for agriculture and logging purposes has already dwindled away 20% of the Amazon rainforest. The land is usually cleared by burning which can get out of control and develop into wildfires.\",html.Br(),html.Br(),\"Select a state from the dropdown menu and a year from the slider to view the data.\"\n",
    "\n",
    "#the dropdown\n",
    "dropdown_options=[]\n",
    "state_list=df[\"State\"].unique()\n",
    "for i in state_list:\n",
    "    dropdown_options.append({\"label\":i,\"value\":i})\n",
    "\n",
    "#the slider\n",
    "slider_markers={1998:{\"label\":\"1998\"},2004:{\"label\":\"2004\"},2011:{\"label\":\"2011\"},2017:{\"label\":\"2017\"}}"
   ]
  },
  {
   "cell_type": "code",
   "execution_count": null,
   "metadata": {},
   "outputs": [],
   "source": [
    "#figure_map\n",
    "figure_map=px.choropleth_mapbox(df_map, geojson=geo,featureidkey=\"properties.sigla\",locations=\"State_Code\",color=\"Number\",zoom=3,center={\"lat\":-13.017113,\"lon\":-51.074481},mapbox_style=\"carto-positron\",color_continuous_scale=\"sunset\",labels={\"Number\":\"Number of Fires\"},hover_name=\"State\",hover_data={\"State_Code\":False,\"Year\":True,\"Number\":True},template=\"plotly_white\")\n",
    "figure_map.update_layout(margin={\"t\":0,\"r\":0,\"b\":0,\"l\":0})\n",
    "figure_map.update_layout({\"plot_bgcolor\":\"rgba(0,0,0,0)\",\"paper_bgcolor\":\"rgba(0,0,0,0)\"})\n",
    "figure_map.update_layout(font_family=\"Garamond\")"
   ]
  },
  {
   "cell_type": "code",
   "execution_count": null,
   "metadata": {},
   "outputs": [],
   "source": [
    "#figure_year\n",
    "figure_year=px.bar(df,x=\"Year\",y=\"Number\",color=\"State\",color_discrete_sequence=px.colors.sequential.Sunset,labels={\"Number\":\"Number of Fires\"},hover_name=\"State\",hover_data={\"State\":False,\"Year\":False,\"Month\":True,\"Number\":True},template=\"plotly_white\")\n",
    "figure_year.update_xaxes(tick0=1998,dtick=1)\n",
    "figure_year.update_layout(margin={\"t\":10,\"r\":0,\"b\":0,\"l\":80})\n",
    "figure_year.update_layout({\"plot_bgcolor\":\"rgba(0,0,0,0)\",\"paper_bgcolor\":\"rgba(0,0,0,0)\"})\n",
    "figure_year.update_layout(showlegend=False)\n",
    "figure_year.update_layout(font_family=\"Garamond\")"
   ]
  },
  {
   "cell_type": "code",
   "execution_count": null,
   "metadata": {},
   "outputs": [],
   "source": [
    "#figure_month\n",
    "figure_month=px.line(df,x=\"Month\",y=\"Number\",color=\"State\",color_discrete_sequence=px.colors.sequential.Sunset,labels={\"Number\":\"Number of Fires\"},hover_name=\"State\",hover_data={\"State\":False,\"Month\":False,\"Year\":True,\"Number\":True},template=\"plotly_white\")\n",
    "figure_month.update_layout(margin={\"t\":10,\"r\":0,\"b\":0,\"l\":80})\n",
    "figure_month.update_layout({\"plot_bgcolor\":\"rgba(0,0,0,0)\",\"paper_bgcolor\":\"rgba(0,0,0,0)\"})\n",
    "figure_month.update_layout(showlegend=False)\n",
    "figure_month.update_layout(font_family=\"Garamond\")"
   ]
  },
  {
   "cell_type": "code",
   "execution_count": null,
   "metadata": {},
   "outputs": [],
   "source": [
    "#original function\n",
    "def update_figures(selected_year,selected_state):\n",
    "        dff=df.copy()\n",
    "        dfmap=dff[dff[\"Year\"]==selected_year]\n",
    "        dfyear=dff[dff[\"State\"]==selected_state]\n",
    "        dfmonth=dff[(dff[\"Year\"]==selected_year)&(dff[\"State\"]==selected_state)]\n",
    "\n",
    "        figure_map=px.choropleth_mapbox(dfmap, geojson=geo,featureidkey=\"properties.sigla\",locations=\"State_Code\",color=\"Number\",zoom=2.5,center={\"lat\":-13.017113,\"lon\":-51.074481},mapbox_style=\"carto-positron\",color_continuous_scale=\"sunset\",labels={\"Number\":\"Number of Fires ('000s)\"},hover_name=\"State\",hover_data={\"State_Code\":False,\"Year\":True,\"Number\":True},template=\"plotly_white\")\n",
    "        figure_map.update_layout(margin={\"t\":0,\"r\":0,\"b\":0,\"l\":0})\n",
    "        figure_map.update_layout({\"plot_bgcolor\":\"rgba(0,0,0,0)\",\"paper_bgcolor\":\"rgba(0,0,0,0)\"})\n",
    "        figure_map.update_layout(font_family=\"Garamond\")\n",
    "\n",
    "        figure_year=px.bar(dfyear,x=\"Year\",y=\"Number\",labels={\"Number\":\"Number of Fires ('000s)\"},hover_name=\"State\",hover_data={\"State\":False,\"Year\":True,\"Month\":True,\"Number\":True},color_discrete_sequence=[\"tomato\"],template=\"plotly_white\")\n",
    "        figure_year.update_xaxes(tick0=1998,dtick=1)\n",
    "        figure_year.update_layout(margin={\"t\":10,\"r\":0,\"b\":0,\"l\":80})\n",
    "        figure_year.update_layout({\"plot_bgcolor\":\"rgba(0,0,0,0)\",\"paper_bgcolor\":\"rgba(0,0,0,0)\"})\n",
    "        figure_year.update_layout(showlegend=False)\n",
    "        figure_year.update_layout(font_family=\"Garamond\")\n",
    "\n",
    "        figure_month=px.line(dfmonth,x=\"Month\",y=\"Number\",labels={\"Number\":\"Number of Fires ('000s)\"},hover_data={\"State\":True,\"Month\":False,\"Year\":True,\"Number\":True},color_discrete_sequence=[\"tomato\"],template=\"plotly_white\")\n",
    "        figure_month.update_layout(margin={\"t\":10,\"r\":0,\"b\":0,\"l\":80})\n",
    "        figure_month.update_layout({\"plot_bgcolor\":\"rgba(0,0,0,0)\",\"paper_bgcolor\":\"rgba(0,0,0,0)\"})\n",
    "        figure_month.update_layout(showlegend=False)\n",
    "        figure_month.update_layout(font_family=\"Garamond\")\n",
    "\n",
    "        return figure_map,figure_year,figure_month"
   ]
  },
  {
   "cell_type": "code",
   "execution_count": null,
   "metadata": {},
   "outputs": [],
   "source": []
  }
 ]
}