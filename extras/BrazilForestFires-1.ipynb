{
 "metadata": {
  "language_info": {
   "codemirror_mode": {
    "name": "ipython",
    "version": 3
   },
   "file_extension": ".py",
   "mimetype": "text/x-python",
   "name": "python",
   "nbconvert_exporter": "python",
   "pygments_lexer": "ipython3",
   "version": "3.8.3-final"
  },
  "orig_nbformat": 2,
  "kernelspec": {
   "name": "Python 3.8.3 64-bit ('base': conda)",
   "display_name": "Python 3.8.3 64-bit ('base': conda)",
   "metadata": {
    "interpreter": {
     "hash": "dca0ade3e726a953b501b15e8e990130d2b7799f14cfd9f4271676035ebe5511"
    }
   }
  }
 },
 "nbformat": 4,
 "nbformat_minor": 2,
 "cells": [
  {
   "cell_type": "code",
   "execution_count": 1,
   "metadata": {},
   "outputs": [],
   "source": [
    "import numpy as np #version 1.18.5\n",
    "import pandas as pd #version 1.0.5\n",
    "import json #version 2.0.9\n",
    "import plotly.express as px #version 4.11.0"
   ]
  },
  {
   "cell_type": "code",
   "execution_count": 2,
   "metadata": {},
   "outputs": [],
   "source": [
    "import dash #version 1.16.3\n",
    "import dash_core_components as dcc #version 1.12.1 (pip install dash --upgrade)\n",
    "import dash_html_components as html #version 1.1.1\n",
    "from dash.dependencies import Input,Output"
   ]
  },
  {
   "cell_type": "code",
   "execution_count": 3,
   "metadata": {},
   "outputs": [],
   "source": [
    "#the json\n",
    "geo=json.load(open(\"brazil-states.geojson\"))\n",
    "\n",
    "#the data\n",
    "df=pd.read_csv(\"amazon.csv\",encoding=\"latin1\")\n",
    "df.drop([\"date\"],axis=1,inplace=True)\n",
    "df.rename(columns={\"year\":\"Year\",\"state\":\"State\",\"month\":\"Month\",\"number\":\"Number\"},inplace=True)\n",
    "\n",
    "month_mapper={\"Janeiro\":\"January\",\"Fevereiro\":\"February\",\"Março\":\"March\",\"Abril\":\"April\",\"Maio\":\"May\",\"Junho\":\"June\",\"Julho\":\"July\",\"Agosto\":\"August\",\"Setembro\":\"September\",\"Outubro\":\"October\",\"Novembro\":\"November\",\"Dezembro\":\"December\"}\n",
    "df[\"Month\"]=df[\"Month\"].map(month_mapper)\n",
    "\n",
    "name_mapper={\"Acre\":\"Acre\",\"Alagoas\":\"Alagoas\",\"Amazonas\":\"Amazonas\",\"Amapa\":\"Amapá\",\"Bahia\":\"Bahia\",\"Ceara\":\"Ceará\",\"Distrito Federal\":\"Distrito Federal\",\"Espirito Santo\":\"Espírito Santo\",\"Goias\":\"Goiás\",\"Maranhao\":\"Maranhão\",\"Mato Grosso\":\"Mato Grosso\",\"Minas Gerais\":\"Minas Gerais\",\"Pará\":\"Pará\",\"Paraiba\":\"Paraíba\",\"Pernambuco\":\"Pernambuco\",\"Piau\":\"Piauí\",\"Rio\":\"Rio de Janeiro\",\"Rondonia\":\"Rondônia\",\"Roraima\":\"Roraima\",\"Santa Catarina\":\"Santa Catarina\",\"Sao Paulo\":\"São Paulo\",\"Sergipe\":\"Sergipe\",\"Tocantins\":\"Tocantins\"}\n",
    "df[\"State\"]=df[\"State\"].map(name_mapper)\n",
    "\n",
    "state_codes=pd.read_csv(\"brazil-state-codes.csv\")\n",
    "state_codes=state_codes[[\"subdivision\",\"name\"]]\n",
    "df=df.merge(state_codes,how=\"left\",left_on=\"State\",right_on=\"name\")\n",
    "df.rename(columns={\"subdivision\":\"State_Code\"},inplace=True)\n",
    "df.drop([\"name\"],axis=1,inplace=True)\n",
    "\n",
    "#the map data\n",
    "def map_df_generator(year):\n",
    "    number_i=[]\n",
    "    for j in df[\"State\"].unique():\n",
    "        number_i.append(df[\"Number\"].loc[(df[\"Year\"]==year)&(df[\"State\"]==j)].sum())\n",
    "    df_i=pd.DataFrame({\"Year\":year,\"State\":df[\"State\"].unique(),\"State_Code\":df[\"State_Code\"].unique(),\"Number\":number_i})\n",
    "    return df_i\n",
    "\n",
    "df_map=pd.concat([map_df_generator(1998),map_df_generator(1999),map_df_generator(2000),map_df_generator(2001),map_df_generator(2002),map_df_generator(2003),map_df_generator(2004),map_df_generator(2005),map_df_generator(2006),map_df_generator(2007),map_df_generator(2008),map_df_generator(2009),map_df_generator(2010),map_df_generator(2011),map_df_generator(2012),map_df_generator(2013),map_df_generator(2014),map_df_generator(2015),map_df_generator(2016),map_df_generator(2017)])\n",
    "df_map.reset_index(inplace=True)\n",
    "df_map.drop([\"index\"],axis=1,inplace=True)"
   ]
  },
  {
   "cell_type": "code",
   "execution_count": null,
   "metadata": {},
   "outputs": [],
   "source": [
    "#the text\n",
    "intro_text=\"Brazil is home to lush rainforests which is vital for keeping our planet healthy. Unfortunately deforestation for agriculture and logging purposes has already dwindled away 20% of the Amazon rainforest. The land is usually cleared by burning which can get out of control and develop into wildfires.\",html.Br(),html.Br(),\"Select a state from the dropdown menu and a year from the slider to view the data.\"\n",
    "\n",
    "#the dropdown\n",
    "dropdown_options=[]\n",
    "\n",
    "state_list=df[\"State\"].unique()\n",
    "\n",
    "for i in state_list:\n",
    "    dropdown_options.append({\"label\":i,\"value\":i})\n",
    "\n",
    "#the slider\n",
    "slider_markers={1998:{\"label\":\"1998\"},2004:{\"label\":\"2004\"},2011:{\"label\":\"2011\"},2017:{\"label\":\"2017\"}}"
   ]
  },
  {
   "cell_type": "code",
   "execution_count": null,
   "metadata": {},
   "outputs": [],
   "source": [
    "#figure_map\n",
    "figure_map=px.choropleth_mapbox(df_map, geojson=geo,featureidkey=\"properties.sigla\",locations=\"State_Code\",color=\"Number\",zoom=3,center={\"lat\":-13.017113,\"lon\":-51.074481},mapbox_style=\"carto-positron\",color_continuous_scale=\"sunset\",labels={\"Number\":\"Number of Fires\"},hover_name=\"State\",hover_data={\"State_Code\":False,\"Year\":True,\"Number\":True},template=\"plotly_white\")\n",
    "figure_map.update_layout(margin={\"t\":0,\"r\":0,\"b\":0,\"l\":0})\n",
    "figure_map.update_layout({\"plot_bgcolor\":\"rgba(0,0,0,0)\",\"paper_bgcolor\":\"rgba(0,0,0,0)\"})"
   ]
  },
  {
   "cell_type": "code",
   "execution_count": null,
   "metadata": {},
   "outputs": [],
   "source": [
    "#figure_year\n",
    "figure_year=px.bar(df,x=\"Year\",y=\"Number\",color=\"State\",labels={\"Number\":\"Number of Fires\"},hover_name=\"State\",hover_data={\"State\":False,\"Year\":False,\"Month\":True,\"Number\":True},template=\"plotly_white\")\n",
    "figure_year.update_xaxes(tick0=1998,dtick=1)\n",
    "figure_year.update_layout(margin={\"t\":10,\"r\":0,\"b\":0,\"l\":80})\n",
    "figure_year.update_layout({\"plot_bgcolor\":\"rgba(0,0,0,0)\",\"paper_bgcolor\":\"rgba(0,0,0,0)\"})\n",
    "figure_year.update_layout(showlegend=False)"
   ]
  },
  {
   "cell_type": "code",
   "execution_count": null,
   "metadata": {},
   "outputs": [],
   "source": [
    "#figure_month\n",
    "figure_month=px.line(df,x=\"Month\",y=\"Number\",color=\"State\",labels={\"Number\":\"Number of Fires\"},hover_name=\"State\",hover_data={\"State\":False,\"Month\":False,\"Year\":True,\"Number\":True},template=\"plotly_white\")\n",
    "figure_month.update_layout(margin={\"t\":10,\"r\":0,\"b\":0,\"l\":80})\n",
    "figure_month.update_layout({\"plot_bgcolor\":\"rgba(0,0,0,0)\",\"paper_bgcolor\":\"rgba(0,0,0,0)\"})\n",
    "figure_month.update_layout(showlegend=False)"
   ]
  },
  {
   "cell_type": "code",
   "execution_count": null,
   "metadata": {},
   "outputs": [],
   "source": [
    "#original function\n",
    "def update_figures(selected_year,selected_state):\n",
    "        dff=df.copy()\n",
    "        dfmap=dff[dff[\"Year\"]==selected_year]\n",
    "        dfyear=dff[dff[\"State\"]==selected_state]\n",
    "        dfmonth=dff[(dff[\"Year\"]==selected_year)&(dff[\"State\"]==selected_state)]\n",
    "\n",
    "        figure_map=px.choropleth_mapbox(dfmap, geojson=geo,featureidkey=\"properties.sigla\",locations=\"State_Code\",color=\"Number\",zoom=2.5,center={\"lat\":-13.017113,\"lon\":-51.074481},mapbox_style=\"carto-positron\",color_continuous_scale=\"sunset\",labels={\"Number\":\"Number of Fires ('000s)\"},hover_name=\"State\",hover_data={\"State_Code\":False,\"Year\":True,\"Number\":True},template=\"plotly_white\")\n",
    "        figure_map.update_layout(margin={\"t\":0,\"r\":0,\"b\":0,\"l\":0})\n",
    "        figure_map.update_layout({\"plot_bgcolor\":\"rgba(0,0,0,0)\",\"paper_bgcolor\":\"rgba(0,0,0,0)\"})\n",
    "\n",
    "        figure_year=px.bar(dfyear,x=\"Year\",y=\"Number\",labels={\"Number\":\"Number of Fires ('000s)\"},hover_name=\"State\",hover_data={\"State\":False,\"Year\":True,\"Month\":True,\"Number\":True},color_discrete_sequence=[\"tomato\"],template=\"plotly_white\")\n",
    "        figure_year.update_xaxes(tick0=1998,dtick=1)\n",
    "        figure_year.update_layout(margin={\"t\":10,\"r\":0,\"b\":0,\"l\":80})\n",
    "        figure_year.update_layout({\"plot_bgcolor\":\"rgba(0,0,0,0)\",\"paper_bgcolor\":\"rgba(0,0,0,0)\"})\n",
    "        figure_year.update_layout(showlegend=False)\n",
    "\n",
    "        figure_month=px.line(dfmonth,x=\"Month\",y=\"Number\",labels={\"Number\":\"Number of Fires ('000s)\"},hover_data={\"State\":True,\"Month\":False,\"Year\":True,\"Number\":True},color_discrete_sequence=[\"tomato\"],template=\"plotly_white\")\n",
    "        figure_month.update_layout(margin={\"t\":10,\"r\":0,\"b\":0,\"l\":80})\n",
    "        figure_month.update_layout({\"plot_bgcolor\":\"rgba(0,0,0,0)\",\"paper_bgcolor\":\"rgba(0,0,0,0)\"})\n",
    "        figure_month.update_layout(showlegend=False)\n",
    "\n",
    "        return figure_map,figure_year,figure_month"
   ]
  },
  {
   "cell_type": "code",
   "execution_count": 5,
   "metadata": {},
   "outputs": [
    {
     "output_type": "execute_result",
     "data": {
      "text/plain": [
       "    Year             State State_Code    Number\n",
       "0   1998              Acre         AC   730.000\n",
       "1   1998           Alagoas         AL    86.000\n",
       "2   1998             Amapá         AP   278.000\n",
       "3   1998          Amazonas         AM   946.000\n",
       "4   1998             Bahia         BA  1224.687\n",
       "5   1998             Ceará         CE  1612.014\n",
       "6   1998  Distrito Federal         DF   103.000\n",
       "7   1998    Espírito Santo         ES   218.000\n",
       "8   1998             Goiás         GO   750.119\n",
       "9   1998          Maranhão         MA   365.884\n",
       "10  1998       Mato Grosso         MT  2401.389\n",
       "11  1998      Minas Gerais         MG  1233.074\n",
       "12  1998              Pará         PA   715.586\n",
       "13  1998           Paraíba         PB   816.000\n",
       "14  1998        Pernambuco         PE   767.000\n",
       "15  1998             Piauí         PI  1493.577\n",
       "16  1998    Rio de Janeiro         RJ  1149.000\n",
       "17  1998          Rondônia         RO   916.007\n",
       "18  1998           Roraima         RR    21.000\n",
       "19  1998    Santa Catarina         SC    59.000\n",
       "20  1998         São Paulo         SP  3196.000\n",
       "21  1998           Sergipe         SE    20.000\n",
       "22  1998         Tocantins         TO   912.634"
      ],
      "text/html": "<div>\n<style scoped>\n    .dataframe tbody tr th:only-of-type {\n        vertical-align: middle;\n    }\n\n    .dataframe tbody tr th {\n        vertical-align: top;\n    }\n\n    .dataframe thead th {\n        text-align: right;\n    }\n</style>\n<table border=\"1\" class=\"dataframe\">\n  <thead>\n    <tr style=\"text-align: right;\">\n      <th></th>\n      <th>Year</th>\n      <th>State</th>\n      <th>State_Code</th>\n      <th>Number</th>\n    </tr>\n  </thead>\n  <tbody>\n    <tr>\n      <th>0</th>\n      <td>1998</td>\n      <td>Acre</td>\n      <td>AC</td>\n      <td>730.000</td>\n    </tr>\n    <tr>\n      <th>1</th>\n      <td>1998</td>\n      <td>Alagoas</td>\n      <td>AL</td>\n      <td>86.000</td>\n    </tr>\n    <tr>\n      <th>2</th>\n      <td>1998</td>\n      <td>Amapá</td>\n      <td>AP</td>\n      <td>278.000</td>\n    </tr>\n    <tr>\n      <th>3</th>\n      <td>1998</td>\n      <td>Amazonas</td>\n      <td>AM</td>\n      <td>946.000</td>\n    </tr>\n    <tr>\n      <th>4</th>\n      <td>1998</td>\n      <td>Bahia</td>\n      <td>BA</td>\n      <td>1224.687</td>\n    </tr>\n    <tr>\n      <th>5</th>\n      <td>1998</td>\n      <td>Ceará</td>\n      <td>CE</td>\n      <td>1612.014</td>\n    </tr>\n    <tr>\n      <th>6</th>\n      <td>1998</td>\n      <td>Distrito Federal</td>\n      <td>DF</td>\n      <td>103.000</td>\n    </tr>\n    <tr>\n      <th>7</th>\n      <td>1998</td>\n      <td>Espírito Santo</td>\n      <td>ES</td>\n      <td>218.000</td>\n    </tr>\n    <tr>\n      <th>8</th>\n      <td>1998</td>\n      <td>Goiás</td>\n      <td>GO</td>\n      <td>750.119</td>\n    </tr>\n    <tr>\n      <th>9</th>\n      <td>1998</td>\n      <td>Maranhão</td>\n      <td>MA</td>\n      <td>365.884</td>\n    </tr>\n    <tr>\n      <th>10</th>\n      <td>1998</td>\n      <td>Mato Grosso</td>\n      <td>MT</td>\n      <td>2401.389</td>\n    </tr>\n    <tr>\n      <th>11</th>\n      <td>1998</td>\n      <td>Minas Gerais</td>\n      <td>MG</td>\n      <td>1233.074</td>\n    </tr>\n    <tr>\n      <th>12</th>\n      <td>1998</td>\n      <td>Pará</td>\n      <td>PA</td>\n      <td>715.586</td>\n    </tr>\n    <tr>\n      <th>13</th>\n      <td>1998</td>\n      <td>Paraíba</td>\n      <td>PB</td>\n      <td>816.000</td>\n    </tr>\n    <tr>\n      <th>14</th>\n      <td>1998</td>\n      <td>Pernambuco</td>\n      <td>PE</td>\n      <td>767.000</td>\n    </tr>\n    <tr>\n      <th>15</th>\n      <td>1998</td>\n      <td>Piauí</td>\n      <td>PI</td>\n      <td>1493.577</td>\n    </tr>\n    <tr>\n      <th>16</th>\n      <td>1998</td>\n      <td>Rio de Janeiro</td>\n      <td>RJ</td>\n      <td>1149.000</td>\n    </tr>\n    <tr>\n      <th>17</th>\n      <td>1998</td>\n      <td>Rondônia</td>\n      <td>RO</td>\n      <td>916.007</td>\n    </tr>\n    <tr>\n      <th>18</th>\n      <td>1998</td>\n      <td>Roraima</td>\n      <td>RR</td>\n      <td>21.000</td>\n    </tr>\n    <tr>\n      <th>19</th>\n      <td>1998</td>\n      <td>Santa Catarina</td>\n      <td>SC</td>\n      <td>59.000</td>\n    </tr>\n    <tr>\n      <th>20</th>\n      <td>1998</td>\n      <td>São Paulo</td>\n      <td>SP</td>\n      <td>3196.000</td>\n    </tr>\n    <tr>\n      <th>21</th>\n      <td>1998</td>\n      <td>Sergipe</td>\n      <td>SE</td>\n      <td>20.000</td>\n    </tr>\n    <tr>\n      <th>22</th>\n      <td>1998</td>\n      <td>Tocantins</td>\n      <td>TO</td>\n      <td>912.634</td>\n    </tr>\n  </tbody>\n</table>\n</div>"
     },
     "metadata": {},
     "execution_count": 5
    }
   ],
   "source": [
    "df_map[df_map[\"Year\"]==1998]"
   ]
  },
  {
   "cell_type": "code",
   "execution_count": null,
   "metadata": {},
   "outputs": [],
   "source": []
  }
 ]
}